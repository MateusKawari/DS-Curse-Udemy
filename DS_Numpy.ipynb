{
  "nbformat": 4,
  "nbformat_minor": 0,
  "metadata": {
    "colab": {
      "provenance": [],
      "authorship_tag": "ABX9TyOBHgpAJD5zJ/3rz1rQYVkh",
      "include_colab_link": true
    },
    "kernelspec": {
      "name": "python3",
      "display_name": "Python 3"
    },
    "language_info": {
      "name": "python"
    }
  },
  "cells": [
    {
      "cell_type": "markdown",
      "metadata": {
        "id": "view-in-github",
        "colab_type": "text"
      },
      "source": [
        "<a href=\"https://colab.research.google.com/github/MateusKawari/DS-Curse-Udemy/blob/main/DS_Numpy.ipynb\" target=\"_parent\"><img src=\"https://colab.research.google.com/assets/colab-badge.svg\" alt=\"Open In Colab\"/></a>"
      ]
    },
    {
      "cell_type": "code",
      "execution_count": 1,
      "metadata": {
        "id": "HnKBTDbJx5Js"
      },
      "outputs": [],
      "source": [
        "# Curso de Data Science - aula 27 - Somando duas Arrays\n"
      ]
    },
    {
      "cell_type": "code",
      "source": [
        "import numpy as np\n"
      ],
      "metadata": {
        "id": "J6clmx1JUdpK"
      },
      "execution_count": 2,
      "outputs": []
    },
    {
      "cell_type": "code",
      "source": [
        "a = [2,3,4]\n",
        "b = [2,3,4]\n"
      ],
      "metadata": {
        "id": "sgnH3DnjXLv_"
      },
      "execution_count": 3,
      "outputs": []
    },
    {
      "cell_type": "code",
      "source": [
        "result = a + b\n",
        "result\n",
        "# Neste caso ele irá concatenar as duas lisatas."
      ],
      "metadata": {
        "id": "v-FPuLv92esv"
      },
      "execution_count": null,
      "outputs": []
    },
    {
      "cell_type": "code",
      "source": [
        "# Caso necessite somar os arrays é preciso usar a função add do Numpy\n",
        "\n",
        "a = np.array([2,3,4])\n",
        "b = np.array([2,3,4])\n",
        "# Transformando as listas em Array\n",
        "\n"
      ],
      "metadata": {
        "id": "ekKu-wUH3KDw"
      },
      "execution_count": 6,
      "outputs": []
    },
    {
      "cell_type": "code",
      "source": [
        "# Logo ele vai somar os indices de que corresponde a cada array\n",
        "result = np.add(a, b)\n",
        "result\n",
        "print(result)"
      ],
      "metadata": {
        "colab": {
          "base_uri": "https://localhost:8080/"
        },
        "id": "RuwS8h8m3n5i",
        "outputId": "4abaab98-abfc-4c00-89f6-1cbbd8312899"
      },
      "execution_count": 9,
      "outputs": [
        {
          "output_type": "stream",
          "name": "stdout",
          "text": [
            "[4 6 8]\n"
          ]
        }
      ]
    },
    {
      "cell_type": "code",
      "source": [
        "# Aula"
      ],
      "metadata": {
        "id": "4tBM_IL-tstP"
      },
      "execution_count": null,
      "outputs": []
    }
  ]
}